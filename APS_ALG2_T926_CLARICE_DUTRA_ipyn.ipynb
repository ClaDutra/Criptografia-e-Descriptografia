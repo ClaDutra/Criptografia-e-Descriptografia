{
  "nbformat": 4,
  "nbformat_minor": 0,
  "metadata": {
    "colab": {
      "provenance": []
    },
    "kernelspec": {
      "name": "python3",
      "display_name": "Python 3"
    },
    "language_info": {
      "name": "python"
    }
  },
  "cells": [
    {
      "cell_type": "markdown",
      "source": [
        "APS ÁLGEBRA LINEAR T926\n",
        "\n",
        "2023200800 - CLARICE VIEIRA DUTRA"
      ],
      "metadata": {
        "id": "rpNQiIhDBsQ3"
      }
    },
    {
      "cell_type": "markdown",
      "source": [
        "Configurações"
      ],
      "metadata": {
        "id": "flDW73HmBnb-"
      }
    },
    {
      "cell_type": "code",
      "execution_count": 4,
      "metadata": {
        "colab": {
          "base_uri": "https://localhost:8080/"
        },
        "id": "YU14GqNV_9Jd",
        "outputId": "b4b4c0f1-8139-447e-be65-68db027b3768"
      },
      "outputs": [
        {
          "output_type": "stream",
          "name": "stdout",
          "text": [
            "=================================================\n"
          ]
        }
      ],
      "source": [
        "import numpy as np\n",
        "from time import sleep\n",
        "\n",
        "# Função para verificar se a palavra contém apenas letras.\n",
        "def apenasLetras(palavra):\n",
        "    for i in palavra:\n",
        "        if i.isdigit():\n",
        "            return False\n",
        "    return True\n",
        "\n",
        "# Definindo a Matriz de Criptografia\n",
        "matrizCriptografia = np.array([[1, 0, 1], [1, 1, 1], [0, 2, -1]])\n",
        "\n",
        "# Definindo a Inversa da Matriz de Criptografia\n",
        "matrizInversa = np.linalg.inv(matrizCriptografia)\n",
        "matrizInversa = np.round(matrizInversa).astype(int)\n",
        "\n",
        "# Dicionário de conversão de letras para números\n",
        "conversao = {chr(i+65): i+1 for i in range(26)}\n",
        "conversao[\" \"] = 0\n",
        "\n",
        "# Lista de desconversão de números para letras\n",
        "desconversao = {v: k for k, v in conversao.items()}\n",
        "\n",
        "print(\"=\"*49)\n",
        "\n"
      ]
    },
    {
      "cell_type": "markdown",
      "source": [
        "Módulo 1 - Cripitografia"
      ],
      "metadata": {
        "id": "O0KrCu0NAi48"
      }
    },
    {
      "cell_type": "code",
      "source": [
        "print(\"=\"*49)\n",
        "\n",
        "# Loop para garantir que o programa continue em caso de eventuais erros.\n",
        "while True:\n",
        "    palavra = input(\"Digite uma palavra de 6 dígitos: \").upper()  # Recebe a entrada do usuário.\n",
        "    check = apenasLetras(palavra)  # Verifica se contém apenas letras e/ou espaços na palavra.\n",
        "    palavra = palavra.ljust(6, \" \")  # Caso não atinja 6 caracteres, a string é preenchida com espaços.\n",
        "\n",
        "    # Verificação se a palavra é válida\n",
        "    if len(palavra) == 6 and check:\n",
        "        # Cria a matriz e adiciona os caracteres da palavra em suas respectivas posições.\n",
        "        matriz = np.array([[palavra[0], palavra[3]], [palavra[1], palavra[4]], [palavra[2], palavra[5]]])\n",
        "\n",
        "        # Cria uma nova matriz de inteiros e faz a conversão dos caracteres para números.\n",
        "        matrizConvertida = np.zeros((3, 2), dtype=\"int\")\n",
        "        c = 0\n",
        "        for i in range(2):\n",
        "            for j in range(3):\n",
        "                matrizConvertida[j][i] = conversao[palavra[c]]  # Troca a letra pelo número correspondente\n",
        "                c += 1\n",
        "\n",
        "        # Multiplica a Matriz de Criptografia com a Matriz Convertida\n",
        "        matrizCriptografada = matrizCriptografia @ matrizConvertida\n",
        "\n",
        "        # Imprime a Matriz Criptografada\n",
        "        print(\"\\nCodificando...\\n\")\n",
        "        sleep(1)\n",
        "        print(\"Matriz Criptografada: \")\n",
        "        for i in range(3):\n",
        "            print(matrizCriptografada[i])\n",
        "        print(\"Execute o \\033[1mMódulo 2: Descriptografia\\033[0;0m para descriptografar a mensagem.\")\n",
        "        break\n",
        "\n",
        "    # Verificação se há números na palavra\n",
        "    elif not check:\n",
        "        print(\"\\n\\033[31mUse apenas letras e espaços.\\033[0;0m\\n\")\n",
        "        sleep(0.5)\n",
        "\n",
        "    # Verificação se a palavra tem menos ou mais de 6 caracteres\n",
        "    elif len(palavra) != 6:\n",
        "        print(\"\\n\\033[33mA palavra deve conter exatamente 6 caracteres.\\033[0;0m\\n\")\n",
        "        sleep(0.5)\n",
        "\n",
        "print(\"=\"*49)"
      ],
      "metadata": {
        "colab": {
          "base_uri": "https://localhost:8080/"
        },
        "id": "nqXabtIbAiOs",
        "outputId": "364b58c3-8618-45f6-b35f-bd3c9f4c6437"
      },
      "execution_count": 5,
      "outputs": [
        {
          "output_type": "stream",
          "name": "stdout",
          "text": [
            "=================================================\n",
            "Digite uma palavra de 6 dígitos: sopa\n",
            "\n",
            "Codificando...\n",
            "\n",
            "Matriz Criptografada: \n",
            "[35  1]\n",
            "[50  1]\n",
            "[14  0]\n",
            "Execute o \u001b[1mMódulo 2: Descriptografia\u001b[0;0m para descriptografar a mensagem.\n",
            "=================================================\n"
          ]
        }
      ]
    },
    {
      "cell_type": "markdown",
      "source": [
        "Módulo 2 - Descripitografia"
      ],
      "metadata": {
        "id": "_6mo8m1UAzP0"
      }
    },
    {
      "cell_type": "code",
      "source": [
        "print(\"=\"*49)\n",
        "\n",
        "print(\"Obtendo Matriz Criptografada do Módulo Anterior...\")\n",
        "sleep(2)\n",
        "# Verifica se a Matriz Criptografada existe.\n",
        "if 'matrizCriptografada' in globals():\n",
        "    # Multiplica a Inversa pela Criptografada para gerar a Matriz Convertida novamente.\n",
        "    matrizDescriptografada = matrizInversa @ matrizCriptografada\n",
        "\n",
        "    print(\"Matriz recebida.\\nDescriptografando...\")\n",
        "    sleep(2.5)\n",
        "    # Cria a Matriz Desconvertida para receber as letras da palavra.\n",
        "    matrizDesconvertida = np.zeros((3, 2), dtype=\"str\")\n",
        "    for i in range(2):\n",
        "        for j in range(3):\n",
        "            matrizDesconvertida[j][i] = desconversao[matrizDescriptografada[j][i]]\n",
        "\n",
        "    # Faz a conversão de matriz para string\n",
        "    palavraRevelada = \"\"\n",
        "    for i in range(2):\n",
        "        for j in range(3):\n",
        "            palavraRevelada += matrizDesconvertida[j][i]\n",
        "\n",
        "    print(f\"\\nA palavra descriptografada é: {palavraRevelada.capitalize()}\")\n",
        "\n",
        "# Caso a Matriz não exista, este módulo é encerrado.\n",
        "else:\n",
        "    print(\"\\nNenhuma palavra foi criptografada ainda.\")\n",
        "\n",
        "print(\"=\"*49)"
      ],
      "metadata": {
        "id": "cCY-veNbAh7U"
      },
      "execution_count": null,
      "outputs": []
    },
    {
      "cell_type": "markdown",
      "source": [
        "Módulo 3 - Como podemos melhorar a segurança do ALGORITMO DE CRIPTOGRAFIA?"
      ],
      "metadata": {
        "id": "WIsdK41ICB2x"
      }
    },
    {
      "cell_type": "markdown",
      "source": [
        "**Utilizar uma Matriz de Criptografia mais Complexa:**\n",
        "\n",
        "  *Utilizar uma matriz de ordem superior ou uma matriz com valores mais variados para dificultar a análise por ataques de força bruta.*\n",
        "\n",
        "**Adicionar uma Camada de Substituição de Caracteres:**\n",
        "\n",
        "  *Antes de aplicar a matriz de criptografia, realizar uma substituição de caracteres baseada em uma tabela de substituição. Isso pode ser feito usando uma cifra de substituição simples como a cifra de César.*"
      ],
      "metadata": {
        "id": "mTIWUvaiC2Ib"
      }
    }
  ]
}